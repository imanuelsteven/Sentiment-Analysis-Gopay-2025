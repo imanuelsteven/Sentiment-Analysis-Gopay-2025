{
 "cells": [
  {
   "cell_type": "markdown",
   "id": "96c31594",
   "metadata": {},
   "source": [
    "# About Code"
   ]
  },
  {
   "cell_type": "markdown",
   "id": "f2f53c65",
   "metadata": {},
   "source": [
    "kode dibawah ini adalah kode yang saya buat untuk melakukan scrapping data ulasan aplikasi Gopay, yang bersumber dari Google Playstore. kode ini akan menghasilkan data ulasan yang berisikan beberapa kolom yaitu : \n",
    "\n",
    "**1. reviewId** - Id ulasan \n",
    "\n",
    "**2. userName** - Username dari pengulas aplikasi\n",
    "\n",
    "**3. userImage** - Foto rofil dari pengulas aplikasi\n",
    "\n",
    "**4. content** - isi ulasan pengguna\n",
    "\n",
    "**5. score** - Score bintang kepuasan pengguna\n",
    "\n",
    "**6. thumbsUpCount** - Jumlah like ulasan\n",
    "\n",
    "**7. reviewCreatedVersion** - Versi aplikasi ketika ulasan dibuat\n",
    "\n",
    "**8. at** - Waktu ulasan dibuat\n",
    "\n",
    "**9. replyContent** - balasaan dari pihak aplikasi\n",
    "\n",
    "**10. repliedAt** - Waktu balasan\n",
    "\n",
    "**11. appVersion** - versi aplikasi\n",
    "\n"
   ]
  },
  {
   "cell_type": "markdown",
   "id": "a1d37843",
   "metadata": {},
   "source": [
    "# Import Library"
   ]
  },
  {
   "cell_type": "code",
   "execution_count": 1,
   "id": "997970a6",
   "metadata": {},
   "outputs": [],
   "source": [
    " # Mengimpor pustaka google_play_scraper untuk mengakses ulasan dan informasi aplikasi dari Google Play Store.\n",
    "from google_play_scraper import app, reviews, Sort, reviews_all\n",
    "import pandas as pd"
   ]
  },
  {
   "cell_type": "code",
   "execution_count": 2,
   "id": "66a739a4",
   "metadata": {},
   "outputs": [],
   "source": [
    "scrapreview = reviews_all(\n",
    "    'com.gojek.gopay',       # ID aplikasi\n",
    "    lang='id',               # Bahasa ulasan (default: 'en')\n",
    "    country='id',            # Negara (default: 'us')\n",
    "    sort=Sort.MOST_RELEVANT, # Urutan ulasan (default: Sort.MOST_RELEVANT)\n",
    "    count=10000              # Jumlah maksimum ulasan yang ingin diambil\n",
    ")"
   ]
  },
  {
   "cell_type": "code",
   "execution_count": 3,
   "id": "5c8b7a26",
   "metadata": {},
   "outputs": [],
   "source": [
    "df = pd.DataFrame(scrapreview)"
   ]
  },
  {
   "cell_type": "code",
   "execution_count": 5,
   "id": "10c82314",
   "metadata": {},
   "outputs": [
    {
     "data": {
      "application/vnd.microsoft.datawrangler.viewer.v0+json": {
       "columns": [
        {
         "name": "index",
         "rawType": "int64",
         "type": "integer"
        },
        {
         "name": "reviewId",
         "rawType": "object",
         "type": "string"
        },
        {
         "name": "userName",
         "rawType": "object",
         "type": "string"
        },
        {
         "name": "userImage",
         "rawType": "object",
         "type": "string"
        },
        {
         "name": "content",
         "rawType": "object",
         "type": "string"
        },
        {
         "name": "score",
         "rawType": "int64",
         "type": "integer"
        },
        {
         "name": "thumbsUpCount",
         "rawType": "int64",
         "type": "integer"
        },
        {
         "name": "reviewCreatedVersion",
         "rawType": "object",
         "type": "string"
        },
        {
         "name": "at",
         "rawType": "datetime64[ns]",
         "type": "datetime"
        },
        {
         "name": "replyContent",
         "rawType": "object",
         "type": "unknown"
        },
        {
         "name": "repliedAt",
         "rawType": "datetime64[ns]",
         "type": "datetime"
        },
        {
         "name": "appVersion",
         "rawType": "object",
         "type": "string"
        }
       ],
       "conversionMethod": "pd.DataFrame",
       "ref": "e4a1f537-e18c-4fc9-83cb-61b3c7a03f72",
       "rows": [
        [
         "0",
         "c4cca5b0-5af1-448c-b4d9-9d1535f1199a",
         "Pengguna Google",
         "https://play-lh.googleusercontent.com/EGemoI2NTXmTsBVtJqk8jxF9rh8ApRWfsIMQSt2uE4OcpQqbFu7f7NbTK05lx80nuSijCz7sc3a277R67g",
         "sumpah gua kecewa banget sama gopay, gua udah top up dari Livin, saldo udah kepotong, di riwayat gopay nya udah masuk tapi saldo nya belum berubah. segera ya! ini penting banget! masa masalah sepele gitu masih terjadi?",
         "1",
         "57",
         "1.44.0",
         "2025-04-02 21:49:44",
         "Hai Kak Rizki, mohon maaf atas ketidaknyamanan yang dialami. Dapat kami sampaikan bahwa sebelumnya terdapat pemeliharaan sistem sehingga transaksi Kakak terhambat sementara. Silakan Kakak untuk melakukan pengecekan secara berkala. Terima kasih. ^Maura",
         "2025-04-03 08:59:58",
         "1.44.0"
        ],
        [
         "1",
         "bced8fec-24dd-4063-86f0-10cbf215f9fd",
         "Pengguna Google",
         "https://play-lh.googleusercontent.com/EGemoI2NTXmTsBVtJqk8jxF9rh8ApRWfsIMQSt2uE4OcpQqbFu7f7NbTK05lx80nuSijCz7sc3a277R67g",
         "parah banget ini saya kena scam voucher promo, padahal jelas-jelas voucher promo nya dapat cashback 100%, malah ga dapat cashback nya, padahal syarat udah terpenuhi semua, bukan nya kalau dapat cashback 100% saldo nya balik lagi? tolong dong admin, saya protes ke apk nya langsung malah gabisa upload bukti nya kaya foto transaksi+syarat ny juga terpenuhi.",
         "1",
         "25",
         "1.45.0",
         "2025-04-01 17:47:13",
         "Hai Kak Anis, mohon maat atas ketidaknyamanannya. Jika kamu masih mengalami kendala, silakan laporkan melalui email ke customerservice@gopay.co.id dengan melampirkan kode psr-25-091-1117-39159 pada subject email dan cantumkan nomor laporan kamu sebelumnya pada email yang kamu kirimkan. Kami tunggu detail laporan kamu ya. ^Melisa",
         "2025-04-01 18:17:48",
         "1.45.0"
        ],
        [
         "2",
         "d9b8cd83-50ba-4ad5-855e-5d97a3d2cbd1",
         "Pengguna Google",
         "https://play-lh.googleusercontent.com/EGemoI2NTXmTsBVtJqk8jxF9rh8ApRWfsIMQSt2uE4OcpQqbFu7f7NbTK05lx80nuSijCz7sc3a277R67g",
         "Di era digitalisasi sekarang ini,semua kebutuhan sudah terintegerasi dengan teknologi e-money yg bisa dibilang cashless. Semua itu untuk mempermudah mobilisasi transaksi baik transfer, topup, tagihan dan pembayaran. Gopay adalah salah satu solusinya. Semoga kedepan semakin maju dan berkembang seiring berubahnya tren dari masa ke masa.",
         "5",
         "19",
         "1.44.0",
         "2025-04-02 20:06:58",
         null,
         null,
         "1.44.0"
        ],
        [
         "3",
         "36a9994c-98e5-4427-84a5-d23484698d3b",
         "Pengguna Google",
         "https://play-lh.googleusercontent.com/EGemoI2NTXmTsBVtJqk8jxF9rh8ApRWfsIMQSt2uE4OcpQqbFu7f7NbTK05lx80nuSijCz7sc3a277R67g",
         "saya top up gopay, walau nominal kecil tapi tidak masuk², dan saya ajukan bantuan tetapi tidak ada respon. kenapa kalau membuat informasi tentang kendala sistem atau sistem sedang libur kok di menu bantuan... ! seharus nya kan di beranda luar biar pengguna tau kalau gopay sedang libur atau apalah.... ini info di taruh di menu bantuan.... tolong dibenahi sistem nya... jangan kayak gini lagi... TIWAS TOP UP Gopay Kurang Ajar",
         "1",
         "7",
         "1.44.0",
         "2025-04-02 22:43:33",
         "Hai Kak Fathul, mohon maaf atas ketidaknyamanan yang dialami. Dapat kami sampaikan bahwa sebelumnya terdapat pemeliharaan sistem sehingga transaksi Kakak terhambat sementara. Silakan Kakak untuk melakukan pengecekan secara berkala. Terima kasih. ^Maura",
         "2025-04-03 12:14:47",
         "1.44.0"
        ],
        [
         "4",
         "5e295fec-8e3b-4084-bceb-9289f0c6e2b9",
         "Pengguna Google",
         "https://play-lh.googleusercontent.com/EGemoI2NTXmTsBVtJqk8jxF9rh8ApRWfsIMQSt2uE4OcpQqbFu7f7NbTK05lx80nuSijCz7sc3a277R67g",
         "kecewa, udah top up gak masuk masuk, nunggu 2 hari,kalo ada info keterlambatan karena ada idul Fitri itu TARO DI HALAMAN DEPAN biar costumer tau, bukannya di halaman bantuan, walaupun nominal dikit tapi kalo perlu itu berharga, mau cancel aja sulit, mempersulit bener 👎👎",
         "1",
         "340",
         "1.44.0",
         "2025-03-31 15:40:12",
         "Hai Kak Charis, pastikan nomor tujuan sudah benar, sudah cek halaman Riwayat, dan coba keluar dan masuk kembali ke aplikasi. Jika saldo masih belum masuk, silakan laporkan melalui menu Bantuan > ketik 'Top up GoPay saya belum masuk' > isi formulir dan cantumkan kode psr-25-090-0925-07442 pada bagian 'Ceritakan lebih lanjut'. ^Melisa",
         "2025-03-31 16:25:18",
         "1.44.0"
        ]
       ],
       "shape": {
        "columns": 11,
        "rows": 5
       }
      },
      "text/html": [
       "<div>\n",
       "<style scoped>\n",
       "    .dataframe tbody tr th:only-of-type {\n",
       "        vertical-align: middle;\n",
       "    }\n",
       "\n",
       "    .dataframe tbody tr th {\n",
       "        vertical-align: top;\n",
       "    }\n",
       "\n",
       "    .dataframe thead th {\n",
       "        text-align: right;\n",
       "    }\n",
       "</style>\n",
       "<table border=\"1\" class=\"dataframe\">\n",
       "  <thead>\n",
       "    <tr style=\"text-align: right;\">\n",
       "      <th></th>\n",
       "      <th>reviewId</th>\n",
       "      <th>userName</th>\n",
       "      <th>userImage</th>\n",
       "      <th>content</th>\n",
       "      <th>score</th>\n",
       "      <th>thumbsUpCount</th>\n",
       "      <th>reviewCreatedVersion</th>\n",
       "      <th>at</th>\n",
       "      <th>replyContent</th>\n",
       "      <th>repliedAt</th>\n",
       "      <th>appVersion</th>\n",
       "    </tr>\n",
       "  </thead>\n",
       "  <tbody>\n",
       "    <tr>\n",
       "      <th>0</th>\n",
       "      <td>c4cca5b0-5af1-448c-b4d9-9d1535f1199a</td>\n",
       "      <td>Pengguna Google</td>\n",
       "      <td>https://play-lh.googleusercontent.com/EGemoI2N...</td>\n",
       "      <td>sumpah gua kecewa banget sama gopay, gua udah ...</td>\n",
       "      <td>1</td>\n",
       "      <td>57</td>\n",
       "      <td>1.44.0</td>\n",
       "      <td>2025-04-02 21:49:44</td>\n",
       "      <td>Hai Kak Rizki, mohon maaf atas ketidaknyamanan...</td>\n",
       "      <td>2025-04-03 08:59:58</td>\n",
       "      <td>1.44.0</td>\n",
       "    </tr>\n",
       "    <tr>\n",
       "      <th>1</th>\n",
       "      <td>bced8fec-24dd-4063-86f0-10cbf215f9fd</td>\n",
       "      <td>Pengguna Google</td>\n",
       "      <td>https://play-lh.googleusercontent.com/EGemoI2N...</td>\n",
       "      <td>parah banget ini saya kena scam voucher promo,...</td>\n",
       "      <td>1</td>\n",
       "      <td>25</td>\n",
       "      <td>1.45.0</td>\n",
       "      <td>2025-04-01 17:47:13</td>\n",
       "      <td>Hai Kak Anis, mohon maat atas ketidaknyamanann...</td>\n",
       "      <td>2025-04-01 18:17:48</td>\n",
       "      <td>1.45.0</td>\n",
       "    </tr>\n",
       "    <tr>\n",
       "      <th>2</th>\n",
       "      <td>d9b8cd83-50ba-4ad5-855e-5d97a3d2cbd1</td>\n",
       "      <td>Pengguna Google</td>\n",
       "      <td>https://play-lh.googleusercontent.com/EGemoI2N...</td>\n",
       "      <td>Di era digitalisasi sekarang ini,semua kebutuh...</td>\n",
       "      <td>5</td>\n",
       "      <td>19</td>\n",
       "      <td>1.44.0</td>\n",
       "      <td>2025-04-02 20:06:58</td>\n",
       "      <td>None</td>\n",
       "      <td>NaT</td>\n",
       "      <td>1.44.0</td>\n",
       "    </tr>\n",
       "    <tr>\n",
       "      <th>3</th>\n",
       "      <td>36a9994c-98e5-4427-84a5-d23484698d3b</td>\n",
       "      <td>Pengguna Google</td>\n",
       "      <td>https://play-lh.googleusercontent.com/EGemoI2N...</td>\n",
       "      <td>saya top up gopay, walau nominal kecil tapi ti...</td>\n",
       "      <td>1</td>\n",
       "      <td>7</td>\n",
       "      <td>1.44.0</td>\n",
       "      <td>2025-04-02 22:43:33</td>\n",
       "      <td>Hai Kak Fathul, mohon maaf atas ketidaknyamana...</td>\n",
       "      <td>2025-04-03 12:14:47</td>\n",
       "      <td>1.44.0</td>\n",
       "    </tr>\n",
       "    <tr>\n",
       "      <th>4</th>\n",
       "      <td>5e295fec-8e3b-4084-bceb-9289f0c6e2b9</td>\n",
       "      <td>Pengguna Google</td>\n",
       "      <td>https://play-lh.googleusercontent.com/EGemoI2N...</td>\n",
       "      <td>kecewa, udah top up gak masuk masuk, nunggu 2 ...</td>\n",
       "      <td>1</td>\n",
       "      <td>340</td>\n",
       "      <td>1.44.0</td>\n",
       "      <td>2025-03-31 15:40:12</td>\n",
       "      <td>Hai Kak Charis, pastikan nomor tujuan sudah be...</td>\n",
       "      <td>2025-03-31 16:25:18</td>\n",
       "      <td>1.44.0</td>\n",
       "    </tr>\n",
       "  </tbody>\n",
       "</table>\n",
       "</div>"
      ],
      "text/plain": [
       "                               reviewId         userName  \\\n",
       "0  c4cca5b0-5af1-448c-b4d9-9d1535f1199a  Pengguna Google   \n",
       "1  bced8fec-24dd-4063-86f0-10cbf215f9fd  Pengguna Google   \n",
       "2  d9b8cd83-50ba-4ad5-855e-5d97a3d2cbd1  Pengguna Google   \n",
       "3  36a9994c-98e5-4427-84a5-d23484698d3b  Pengguna Google   \n",
       "4  5e295fec-8e3b-4084-bceb-9289f0c6e2b9  Pengguna Google   \n",
       "\n",
       "                                           userImage  \\\n",
       "0  https://play-lh.googleusercontent.com/EGemoI2N...   \n",
       "1  https://play-lh.googleusercontent.com/EGemoI2N...   \n",
       "2  https://play-lh.googleusercontent.com/EGemoI2N...   \n",
       "3  https://play-lh.googleusercontent.com/EGemoI2N...   \n",
       "4  https://play-lh.googleusercontent.com/EGemoI2N...   \n",
       "\n",
       "                                             content  score  thumbsUpCount  \\\n",
       "0  sumpah gua kecewa banget sama gopay, gua udah ...      1             57   \n",
       "1  parah banget ini saya kena scam voucher promo,...      1             25   \n",
       "2  Di era digitalisasi sekarang ini,semua kebutuh...      5             19   \n",
       "3  saya top up gopay, walau nominal kecil tapi ti...      1              7   \n",
       "4  kecewa, udah top up gak masuk masuk, nunggu 2 ...      1            340   \n",
       "\n",
       "  reviewCreatedVersion                  at  \\\n",
       "0               1.44.0 2025-04-02 21:49:44   \n",
       "1               1.45.0 2025-04-01 17:47:13   \n",
       "2               1.44.0 2025-04-02 20:06:58   \n",
       "3               1.44.0 2025-04-02 22:43:33   \n",
       "4               1.44.0 2025-03-31 15:40:12   \n",
       "\n",
       "                                        replyContent           repliedAt  \\\n",
       "0  Hai Kak Rizki, mohon maaf atas ketidaknyamanan... 2025-04-03 08:59:58   \n",
       "1  Hai Kak Anis, mohon maat atas ketidaknyamanann... 2025-04-01 18:17:48   \n",
       "2                                               None                 NaT   \n",
       "3  Hai Kak Fathul, mohon maaf atas ketidaknyamana... 2025-04-03 12:14:47   \n",
       "4  Hai Kak Charis, pastikan nomor tujuan sudah be... 2025-03-31 16:25:18   \n",
       "\n",
       "  appVersion  \n",
       "0     1.44.0  \n",
       "1     1.45.0  \n",
       "2     1.44.0  \n",
       "3     1.44.0  \n",
       "4     1.44.0  "
      ]
     },
     "execution_count": 5,
     "metadata": {},
     "output_type": "execute_result"
    }
   ],
   "source": [
    "df.head()"
   ]
  },
  {
   "cell_type": "code",
   "execution_count": 4,
   "id": "b738af19",
   "metadata": {},
   "outputs": [
    {
     "name": "stdout",
     "output_type": "stream",
     "text": [
      "<class 'pandas.core.frame.DataFrame'>\n",
      "RangeIndex: 148500 entries, 0 to 148499\n",
      "Data columns (total 11 columns):\n",
      " #   Column                Non-Null Count   Dtype         \n",
      "---  ------                --------------   -----         \n",
      " 0   reviewId              148500 non-null  object        \n",
      " 1   userName              148500 non-null  object        \n",
      " 2   userImage             148500 non-null  object        \n",
      " 3   content               148500 non-null  object        \n",
      " 4   score                 148500 non-null  int64         \n",
      " 5   thumbsUpCount         148500 non-null  int64         \n",
      " 6   reviewCreatedVersion  131677 non-null  object        \n",
      " 7   at                    148500 non-null  datetime64[ns]\n",
      " 8   replyContent          30203 non-null   object        \n",
      " 9   repliedAt             30203 non-null   datetime64[ns]\n",
      " 10  appVersion            131677 non-null  object        \n",
      "dtypes: datetime64[ns](2), int64(2), object(7)\n",
      "memory usage: 12.5+ MB\n"
     ]
    }
   ],
   "source": [
    "df.info()"
   ]
  },
  {
   "cell_type": "markdown",
   "id": "9bc016d3",
   "metadata": {},
   "source": [
    "Dataset ini berisi 148.500 entri ulasan aplikasi dengan 11 kolom. Semua ulasan memiliki **reviewId**, **userName**, **userImage**, **content**, **score**, dan **thumbsUpCount** yang lengkap. Tanggal ulasan (**at**) juga tersedia untuk semua entri. Namun, beberapa kolom memiliki data yang tidak lengkap, seperti **reviewCreatedVersion** dan **appVersion**, yang hanya terisi pada sekitar 88,7% ulasan (131.677 entri). Selain itu, hanya 30.203 ulasan (sekitar 20%) yang mendapat balasan dari pengembang, ditunjukkan oleh **replyContent** dan **repliedAt**. Hal ini menunjukkan bahwa sebagian besar ulasan tidak memiliki tanggapan resmi dari pihak aplikasi."
   ]
  },
  {
   "cell_type": "markdown",
   "id": "3aa8986b",
   "metadata": {},
   "source": [
    "## Simpan data menjadi file CSV"
   ]
  },
  {
   "cell_type": "code",
   "execution_count": 6,
   "id": "0157f373",
   "metadata": {},
   "outputs": [],
   "source": [
    "df.to_csv('Dataset/Gopay_ScrappingData.csv', index= False)"
   ]
  }
 ],
 "metadata": {
  "kernelspec": {
   "display_name": "Python 3",
   "language": "python",
   "name": "python3"
  },
  "language_info": {
   "codemirror_mode": {
    "name": "ipython",
    "version": 3
   },
   "file_extension": ".py",
   "mimetype": "text/x-python",
   "name": "python",
   "nbconvert_exporter": "python",
   "pygments_lexer": "ipython3",
   "version": "3.11.9"
  }
 },
 "nbformat": 4,
 "nbformat_minor": 5
}
